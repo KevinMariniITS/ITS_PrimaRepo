{
 "cells": [
  {
   "cell_type": "code",
   "execution_count": 95,
   "metadata": {},
   "outputs": [
    {
     "name": "stdout",
     "output_type": "stream",
     "text": [
      "[1, '2', 3, 4, 5.0]\n",
      "2\n",
      "36\n",
      "[10, True, 10.5]\n",
      "10\n"
     ]
    },
    {
     "data": {
      "text/plain": [
       "10"
      ]
     },
     "execution_count": 95,
     "metadata": {},
     "output_type": "execute_result"
    }
   ],
   "source": [
    "# Scalar\n",
    "\n",
    "a = 10\n",
    "var_int = 10 # utile per stroncare i decimali (ovvero al netto della virgola)\n",
    "var_bool = True\n",
    "var_float = 10.5\n",
    "var_none = None\n",
    "\n",
    "# Sets and values\n",
    "\n",
    "var_str = \"Hello World\"\n",
    "var_list = [1, \"2\", 3, 4, 5.0] # include sia int, float che str\n",
    "var_tuple = (1, 2, 3, 4, 5) # include solo int\n",
    "var_dict = {\"name\": \"John\", \"age\": 36}  # si associa un nome ed un'età\n",
    "\n",
    "# Tentativo di output, cliccare sulla freccia in alto\n",
    "\n",
    "# Print values\n",
    " \n",
    "print(var_list)\n",
    "print(var_list[1]) # lo zero è il primo valore di partenza; con 1 ho estratto il 2o valore dall'intervallo var_list\n",
    "\n",
    "print(var_dict[\"age\"]) # prendo la variabile sulla parentesi quadra\n",
    "\n",
    "var_list2 = [var_int, var_bool, var_float] # mi unisce tutte e tre la variabili\n",
    "print(var_list2)\n",
    "# print(var_list2)  # ctrl ù per attivare i commenti\n",
    "\n",
    "\n",
    "int(str(var_int)) # esempio stupido senza senso!\n",
    "print(str(var_int))\n",
    "# non con tutti i valori int(var_str)\n",
    "\n",
    "\n"
   ]
  },
  {
   "cell_type": "code",
   "execution_count": 100,
   "metadata": {},
   "outputs": [
    {
     "name": "stdout",
     "output_type": "stream",
     "text": [
      "43.5\n",
      "43\n",
      "43.5\n",
      "True\n"
     ]
    }
   ],
   "source": [
    "# esempio di funzioni composte\n",
    "\n",
    "var_float2= 43.5\n",
    "print(var_float2)\n",
    "\n",
    "var_int2= int(var_float2)\n",
    "print(int(var_float2)) # troverò il numero int\n",
    "\n",
    "var_str3= str(var_float2)\n",
    "print(var_str3) # torna al valore precedente\n",
    "\n",
    "var_bool2= (var_float2 == var_float2)\n",
    "\n",
    "print(var_bool2) # la condizione è vera"
   ]
  },
  {
   "cell_type": "code",
   "execution_count": 106,
   "metadata": {},
   "outputs": [
    {
     "name": "stdout",
     "output_type": "stream",
     "text": [
      "20.5\n",
      "-0.5\n",
      "105.0\n",
      "0.9523809523809523\n",
      "3\n",
      "1\n",
      "Hello WorldHello WorldHello World\n",
      "Hello World I'm Kevin\n",
      "H\n",
      "llo\n"
     ]
    }
   ],
   "source": [
    "# principali operazioni di calcolo\n",
    "\n",
    "add = var_int + var_float\n",
    "print(add)\n",
    "\n",
    "minus = var_int - var_float\n",
    "print(minus)\n",
    "\n",
    "per = var_int * var_float\n",
    "print(per)\n",
    "\n",
    "div = var_int / var_float\n",
    "print(div)\n",
    "\n",
    "div_int = 10 // 3\n",
    "print(div_int) # divisione senza la virgola\n",
    "\n",
    "modulo = 10 % 3\n",
    "print(modulo) # resto della divisione\n",
    "\n",
    "# moltiplicazione str\n",
    "print(var_str * 3)\n",
    "\n",
    "var_str2 = \"I'm Kevin\"\n",
    "#concatenazione di stringhe\n",
    "print(var_str + \" \" + var_str2) #unisco due valori mettendoci lo spazio fra i due\n",
    "\n",
    "#indice stringhe\n",
    "print(var_str[0]) # prenderò la prima posizione della stringa\n",
    "print(var_str[2:5]) #prenderò soltanto le lettere all'interno dell'intervallo da me scelto\n",
    "\n",
    "\n",
    "\n"
   ]
  },
  {
   "cell_type": "code",
   "execution_count": 113,
   "metadata": {},
   "outputs": [
    {
     "name": "stdout",
     "output_type": "stream",
     "text": [
      " ciao, mi chiamo John e ho 36 anni \n",
      "1 2 3\n"
     ]
    }
   ],
   "source": [
    "print(\" ciao, mi chiamo \" + var_dict[\"name\"] + \" e ho \" + str(var_dict[\"age\"]) + \" anni \") # dovrò mettere str per \"stringare il numero\"\n",
    "print(str(var_list[0]) + \" \" + (var_list[1]) + \" \" + str(var_list[2])) # basta mettere la str nei due estremi della funzione che ho digitato"
   ]
  },
  {
   "cell_type": "code",
   "execution_count": 115,
   "metadata": {},
   "outputs": [
    {
     "name": "stdout",
     "output_type": "stream",
     "text": [
      "[1, 2, 4, 7, 5, 6]\n",
      "[2, 4, 7, 5, 6]\n",
      "[2, 4, 5, 6, 7]\n",
      "[7, 6, 5, 4, 2]\n",
      "[]\n",
      "0\n",
      "[1, 2, 4, 5, 6, 7]\n",
      "[1, 2, 4, 5, 6, 7, 1, 2, 4, 5, 6, 7]\n"
     ]
    }
   ],
   "source": [
    "var_list = [1, 2, 4, 7, 5, 6]\n",
    "print(var_list)\n",
    "\n",
    "var_list.remove(1) # rimuove l'elemento 6 dall' intervallo\n",
    "print(var_list)\n",
    "\n",
    "var_list.sort() # ordina gli elementi dell'intervallo in maniera crescente\n",
    "print(var_list)\n",
    "\n",
    "var_list.reverse() # inverte l'ordine degli elementi in maniera decrescente\n",
    "print(var_list)\n",
    "\n",
    "var_list.clear()\n",
    "print(var_list) # mi svuota l'intervallo da tutti i suoi valori presenti\n",
    "\n",
    "numero_elementi= len(var_list)\n",
    "print(len(var_list)) #indica il numero di elementi\n",
    "\n",
    "var_list = [1, 2, 4, 7, 5, 6]\n",
    "var_list.sort()\n",
    "print(var_list)\n",
    "\n",
    "var_list2 = var_list.copy() + var_list.copy() # copia la lista mettendola in un unico intervallo\n",
    "print(var_list2)"
   ]
  },
  {
   "cell_type": "code",
   "execution_count": 159,
   "metadata": {},
   "outputs": [
    {
     "name": "stdout",
     "output_type": "stream",
     "text": [
      " Hello,  Hello,  Hello,  you are turning 34 today!!! \n",
      "1.0833333333333333\n",
      "1.083\n",
      "1\n",
      "7.65e+18\n",
      "4\n",
      " My mass energy is 5580000000000000000\n"
     ]
    }
   ],
   "source": [
    "# esercizi\n",
    "#1\n",
    "str_hello = \" Hello, \" # basta lo spazio per garantire una separazione\n",
    "age = 34\n",
    "\n",
    "print( str_hello*3 + \" you are turning \" + str(age) + \" today!!! \")\n",
    "\n",
    "#2\n",
    "successione= 1/2 + 1/3 + 1/4\n",
    "print(successione)\n",
    "round(successione, 3)\n",
    "print(round(successione, 3)) # arrotondiamo il numero float\n",
    "int(successione)\n",
    "print(int(successione))\n",
    "\n",
    "#3\n",
    "espressione = 85 * (3 * 10**8)**2\n",
    "numero = 2**2   # per elevare alla potenza userà **\n",
    "print(float((espressione)))\n",
    "print(numero)\n",
    "\n",
    "#4\n",
    "m = 62\n",
    "c = 3 * 10 ** 8\n",
    "Energy = m * c ** 2\n",
    "print( \" My mass energy is \" + str(Energy))"
   ]
  },
  {
   "cell_type": "code",
   "execution_count": 161,
   "metadata": {},
   "outputs": [
    {
     "name": "stdout",
     "output_type": "stream",
     "text": [
      "Il mio nome è Giopizzi e la mia energia è 9e+21\n"
     ]
    }
   ],
   "source": [
    "# codice che richiede all'utente il suo nome ed il suo peso, restituendo la sua Energia in Joule\n",
    "# per ottenere un valore dall'utente dovrò inserire input\n",
    "\n",
    "nome_utente = input(\"Inserisci il tuo nome utente: \")\n",
    "peso_kg = float(input(\"inserisci il tuo peso: \")) # con il float riduco il valore per una potenza\n",
    "c = 3 * 10 ** 8\n",
    "energy = peso_kg* c ** 2 # ricordarsi di mettere l'int per ottenere il peso all'interno della formula\n",
    "\n",
    "print(\"Il mio nome è \" + str(nome_utente) + \" e la mia energia è \" + str(energy))\n"
   ]
  },
  {
   "cell_type": "code",
   "execution_count": 180,
   "metadata": {},
   "outputs": [
    {
     "name": "stdout",
     "output_type": "stream",
     "text": [
      "Ti accoltello porkoddio!!!\n",
      "Il numero che ho scelto è: 7\n",
      "Il numero segreto è: 1\n"
     ]
    }
   ],
   "source": [
    "# gioco per indovinare un numero segreto (gioco semplice senza loop)\n",
    "# posso farlo utilizzando la if clause\n",
    "\n",
    "import random # importo la funzione \n",
    "numero_segreto = random.randint(1, 10)\n",
    "\n",
    "numero_scelto = int(input(\"Scegli un numero da 1 a 10:\" ))\n",
    "if numero_scelto == numero_segreto :\n",
    "    print(\"Hai vinto!\")\n",
    "else:   \n",
    "    print(\"Ti accoltello porkoddio!!!\")\n",
    "\n",
    "print(\"Il numero che ho scelto è: \" + str(numero_scelto))\n",
    "\n",
    "print (\"Il numero segreto è: \" + str(numero_segreto)) # mettere sempre la str nella frase!!!"
   ]
  }
 ],
 "metadata": {
  "kernelspec": {
   "display_name": "Python 3",
   "language": "python",
   "name": "python3"
  },
  "language_info": {
   "codemirror_mode": {
    "name": "ipython",
    "version": 3
   },
   "file_extension": ".py",
   "mimetype": "text/x-python",
   "name": "python",
   "nbconvert_exporter": "python",
   "pygments_lexer": "ipython3",
   "version": "3.12.0"
  }
 },
 "nbformat": 4,
 "nbformat_minor": 2
}
